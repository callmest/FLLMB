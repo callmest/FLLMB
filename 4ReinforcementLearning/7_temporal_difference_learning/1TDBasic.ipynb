{
 "cells": [
  {
   "cell_type": "markdown",
   "metadata": {},
   "source": [
    "### 1. 原理解释"
   ]
  },
  {
   "cell_type": "markdown",
   "metadata": {
    "vscode": {
     "languageId": "plaintext"
    }
   },
   "source": [
    "### 2. 代码实现"
   ]
  },
  {
   "cell_type": "code",
   "execution_count": 1,
   "metadata": {},
   "outputs": [
    {
     "name": "stderr",
     "output_type": "stream",
     "text": [
      "c:\\Users\\callmest\\.conda\\envs\\RBP-TSTL\\lib\\site-packages\\numpy\\_distributor_init.py:30: UserWarning: loaded more than 1 DLL from .libs:\n",
      "c:\\Users\\callmest\\.conda\\envs\\RBP-TSTL\\lib\\site-packages\\numpy\\.libs\\libopenblas.FB5AE2TYXYH2IJRDKGDGQ3XBKLKTF43H.gfortran-win_amd64.dll\n",
      "c:\\Users\\callmest\\.conda\\envs\\RBP-TSTL\\lib\\site-packages\\numpy\\.libs\\libopenblas64__v0.3.23-gcc_10_3_0.dll\n",
      "  warnings.warn(\"loaded more than 1 DLL from .libs:\"\n"
     ]
    }
   ],
   "source": [
    "import numpy as np\n",
    "import random\n",
    "from IPython.display import clear_output\n",
    "import sys, os\n",
    "sys.path.append(os.path.dirname(os.getcwd()))\n",
    "from GridWorld import GridWorld\n",
    "from tqdm import tqdm"
   ]
  },
  {
   "cell_type": "code",
   "execution_count": 2,
   "metadata": {},
   "outputs": [
    {
     "name": "stdout",
     "output_type": "stream",
     "text": [
      "Initial Grid World\n",
      "⬜️⬜️⬜️⬜️⬜️\n",
      "⬜️🚫🚫⬜️⬜️\n",
      "⬜️⬜️🚫⬜️⬜️\n",
      "⬜️🚫✅🚫⬜️\n",
      "⬜️🚫⬜️⬜️⬜️\n",
      "Initial Policy\n",
      "现在的策略是：\n",
      "➡️⬅️⬇️⬇️⬆️\n",
      "⬆️⏫️⏬➡️➡️\n",
      "⬅️⬆️⏫️➡️⬆️\n",
      "⬆️⏪✅⏬⬆️\n",
      "⬆️⏩️➡️⬆️⬇️\n"
     ]
    }
   ],
   "source": [
    "rows = 5\n",
    "columns = 5\n",
    "gridworld  = GridWorld(forbiddenAreaReward=-500, reward=100, desc=[\".....\", \".##..\", \"..#..\", \".#T#.\", \".#...\"])\n",
    "print('Initial Grid World')\n",
    "gridworld.show()\n",
    "policy = np.random.randint(0, 4, size=(rows * columns))\n",
    "print('Initial Policy')\n",
    "gridworld.show_policy_list(policy)\n",
    "value = np.zeros((rows * columns))"
   ]
  },
  {
   "cell_type": "code",
   "execution_count": 4,
   "metadata": {},
   "outputs": [
    {
     "name": "stdout",
     "output_type": "stream",
     "text": [
      "start value evaluation...\n",
      "now value: [    0.     0.     0.     0.     0.     0.     0.     0.     0. -5000.\n",
      "     0.     0.     0.     0.     0.     0.     0.     0.     0.     0.\n",
      "     0.     0.     0.     0.     0.]\n"
     ]
    },
    {
     "name": "stderr",
     "output_type": "stream",
     "text": [
      "100%|██████████| 100000/100000 [00:01<00:00, 54295.91it/s]"
     ]
    },
    {
     "name": "stdout",
     "output_type": "stream",
     "text": [
      "value evaluation complete!\n",
      "now value: [   0.            0.            0.          -54.94505495  -54.34126313\n",
      " -108.68916134 -107.49477495 -106.31351369 -160.09028826 -158.33105433\n",
      " -211.53620758 -264.15668881 -316.198923   -367.66926451 -363.62894292\n",
      " -359.63302047 -355.68100925 -351.77242673 -347.90679567 -344.08364407\n",
      " -340.30250512 -336.56291716 -332.86442356 -329.20657275 -380.53397305]\n"
     ]
    },
    {
     "name": "stderr",
     "output_type": "stream",
     "text": [
      "\n"
     ]
    }
   ],
   "source": [
    "# 定义超参数\n",
    "gamma = 0.9\n",
    "alpha = 0.1\n",
    "episodes = 100\n",
    "\n",
    "print('start value evaluation...')\n",
    "print(f'now value: {value}')\n",
    "for episode in tqdm(range(episodes)):\n",
    "    # 随机初始化状态， 保留最后一个状态，确保所有状态都被访问\n",
    "    state = np.random.randint(0, (rows * columns) - 1)\n",
    "    while state != (rows * columns) - 1:\n",
    "        # 选取在对应时刻的动作\n",
    "        action = policy[state]\n",
    "        # 获取即刻奖励\n",
    "        reward, _ = gridworld.getScore(state, action)\n",
    "        next_state = state + 1\n",
    "        # 利用TD Basic的方法更新\n",
    "        # V_{t+1}(St) = V_{t}(St) - alpha_{t}(St)[V_{t}(St) - (r_{t+1} + gamma V_{t}(S_{t+1}))]\n",
    "        # 利用下一时刻的数据更新这一时刻的数据\n",
    "        value[next_state] = value[state] - alpha * (value[state] - (reward + (gamma * value[next_state])))\n",
    "        # 转移到下一个数据\n",
    "        state = next_state\n",
    "print('value evaluation complete!')\n",
    "print(f'now value: {value}')"
   ]
  }
 ],
 "metadata": {
  "kernelspec": {
   "display_name": "RBP-TSTL",
   "language": "python",
   "name": "python3"
  },
  "language_info": {
   "codemirror_mode": {
    "name": "ipython",
    "version": 3
   },
   "file_extension": ".py",
   "mimetype": "text/x-python",
   "name": "python",
   "nbconvert_exporter": "python",
   "pygments_lexer": "ipython3",
   "version": "3.9.17"
  }
 },
 "nbformat": 4,
 "nbformat_minor": 2
}
